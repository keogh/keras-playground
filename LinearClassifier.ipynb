{
 "cells": [
  {
   "cell_type": "markdown",
   "metadata": {},
   "source": [
    "*Source:* https://adataanalyst.com/scikit-learn/linear-classification-method/"
   ]
  },
  {
   "cell_type": "code",
   "execution_count": 4,
   "metadata": {},
   "outputs": [],
   "source": [
    "%matplotlib inline\n",
    "\n",
    "import sklearn as sk\n",
    "import numpy as np\n",
    "import matplotlib.pyplot as plt"
   ]
  },
  {
   "cell_type": "code",
   "execution_count": 5,
   "metadata": {},
   "outputs": [
    {
     "name": "stdout",
     "output_type": "stream",
     "text": [
      "(150, 4) (150,)\n",
      "[5.1 3.5 1.4 0.2] 0\n"
     ]
    }
   ],
   "source": [
    "from sklearn import datasets\n",
    "\n",
    "iris = datasets.load_iris()\n",
    "X_iris, y_iris = iris.data, iris.target\n",
    "\n",
    "print (X_iris.shape, y_iris.shape)\n",
    "print( X_iris[0], y_iris[0])"
   ]
  },
  {
   "cell_type": "code",
   "execution_count": 45,
   "metadata": {},
   "outputs": [
    {
     "data": {
      "text/html": [
       "<div>\n",
       "<style scoped>\n",
       "    .dataframe tbody tr th:only-of-type {\n",
       "        vertical-align: middle;\n",
       "    }\n",
       "\n",
       "    .dataframe tbody tr th {\n",
       "        vertical-align: top;\n",
       "    }\n",
       "\n",
       "    .dataframe thead th {\n",
       "        text-align: right;\n",
       "    }\n",
       "</style>\n",
       "<table border=\"1\" class=\"dataframe\">\n",
       "  <thead>\n",
       "    <tr style=\"text-align: right;\">\n",
       "      <th></th>\n",
       "      <th>sepal length (cm)</th>\n",
       "      <th>sepal width (cm)</th>\n",
       "      <th>petal length (cm)</th>\n",
       "      <th>petal width (cm)</th>\n",
       "      <th>target</th>\n",
       "    </tr>\n",
       "  </thead>\n",
       "  <tbody>\n",
       "    <tr>\n",
       "      <th>0</th>\n",
       "      <td>5.1</td>\n",
       "      <td>3.5</td>\n",
       "      <td>1.4</td>\n",
       "      <td>0.2</td>\n",
       "      <td>0.0</td>\n",
       "    </tr>\n",
       "    <tr>\n",
       "      <th>1</th>\n",
       "      <td>4.9</td>\n",
       "      <td>3.0</td>\n",
       "      <td>1.4</td>\n",
       "      <td>0.2</td>\n",
       "      <td>0.0</td>\n",
       "    </tr>\n",
       "    <tr>\n",
       "      <th>2</th>\n",
       "      <td>4.7</td>\n",
       "      <td>3.2</td>\n",
       "      <td>1.3</td>\n",
       "      <td>0.2</td>\n",
       "      <td>0.0</td>\n",
       "    </tr>\n",
       "    <tr>\n",
       "      <th>3</th>\n",
       "      <td>4.6</td>\n",
       "      <td>3.1</td>\n",
       "      <td>1.5</td>\n",
       "      <td>0.2</td>\n",
       "      <td>0.0</td>\n",
       "    </tr>\n",
       "    <tr>\n",
       "      <th>4</th>\n",
       "      <td>5.0</td>\n",
       "      <td>3.6</td>\n",
       "      <td>1.4</td>\n",
       "      <td>0.2</td>\n",
       "      <td>0.0</td>\n",
       "    </tr>\n",
       "  </tbody>\n",
       "</table>\n",
       "</div>"
      ],
      "text/plain": [
       "   sepal length (cm)  sepal width (cm)  petal length (cm)  petal width (cm)  \\\n",
       "0                5.1               3.5                1.4               0.2   \n",
       "1                4.9               3.0                1.4               0.2   \n",
       "2                4.7               3.2                1.3               0.2   \n",
       "3                4.6               3.1                1.5               0.2   \n",
       "4                5.0               3.6                1.4               0.2   \n",
       "\n",
       "   target  \n",
       "0     0.0  \n",
       "1     0.0  \n",
       "2     0.0  \n",
       "3     0.0  \n",
       "4     0.0  "
      ]
     },
     "execution_count": 45,
     "metadata": {},
     "output_type": "execute_result"
    }
   ],
   "source": [
    "import pandas as pd\n",
    "\n",
    "df = pd.DataFrame(data=np.c_[iris.data, iris.target], columns=iris.feature_names + ['target'])\n",
    "df.head()"
   ]
  },
  {
   "cell_type": "code",
   "execution_count": 7,
   "metadata": {},
   "outputs": [
    {
     "name": "stdout",
     "output_type": "stream",
     "text": [
      "(112, 2) (112,)\n"
     ]
    }
   ],
   "source": [
    "from sklearn.model_selection import train_test_split\n",
    "from sklearn.preprocessing import StandardScaler\n",
    "\n",
    "# Get dataset with only the first two attributes\n",
    "X, y = X_iris[:,:2], y_iris\n",
    "\n",
    "# Split the dataset into a training and a testing set\n",
    "# Test set will be the 25% taken randomly\n",
    "X_train, X_test, y_train, y_test = train_test_split(X, y, \n",
    "                                                    test_size=0.25, \n",
    "                                                    random_state=33)\n",
    "\n",
    "print (X_train.shape, y_train.shape)\n",
    "\n",
    "# Standarize the features\n",
    "# Feature Scaling\n",
    "#  For each feature, calculate the average, subtract the mean\n",
    "#  value from the feature value, and divide the result by their standard deviation. After\n",
    "#  scaling, each feature will have a zero average, with a standard deviation of one.\n",
    "scaler = StandardScaler().fit(X_train)\n",
    "\n",
    "X_train = scaler.transform(X_train)\n",
    "X_test = scaler.transform(X_test)"
   ]
  },
  {
   "cell_type": "code",
   "execution_count": 48,
   "metadata": {},
   "outputs": [
    {
     "data": {
      "text/plain": [
       "array([[-0.91090798, -1.59761476],\n",
       "       [-1.0271058 ,  0.09442168],\n",
       "       [ 0.59966379, -1.59761476],\n",
       "       [ 0.01867465, -0.9631011 ],\n",
       "       [ 0.48346596, -0.32858743],\n",
       "       [-1.25950146,  0.30592623],\n",
       "       [-1.37569929,  0.72893534],\n",
       "       [-0.79471015, -1.17460565],\n",
       "       [-1.14330363,  0.72893534],\n",
       "       [ 2.45882905,  1.57495356],\n",
       "       [-0.79471015,  0.72893534],\n",
       "       [-0.79471015,  1.36344901],\n",
       "       [-0.21372101, -0.32858743],\n",
       "       [ 0.83205945, -0.11708288],\n",
       "       [-0.44611666,  1.78645812],\n",
       "       [ 1.41304859,  0.30592623],\n",
       "       [ 0.01867465, -0.54009199],\n",
       "       [ 2.22643339, -0.9631011 ],\n",
       "       [-0.32991883, -1.17460565],\n",
       "       [ 0.13487248,  0.30592623],\n",
       "       [-1.0271058 ,  0.09442168],\n",
       "       [-1.49189712, -1.59761476],\n",
       "       [ 0.59966379, -0.54009199],\n",
       "       [-1.60809495, -0.32858743],\n",
       "       [-0.91090798,  1.15194445],\n",
       "       [ 1.64544425, -0.11708288],\n",
       "       [ 0.25107031,  0.72893534],\n",
       "       [ 0.48346596, -1.80911932],\n",
       "       [ 1.8778399 , -0.54009199],\n",
       "       [ 1.18065293, -0.11708288],\n",
       "       [ 0.71586162, -0.54009199],\n",
       "       [-0.09752318, -1.17460565],\n",
       "       [-0.91090798,  0.9404399 ],\n",
       "       [-0.79471015,  1.57495356],\n",
       "       [ 1.18065293, -0.54009199],\n",
       "       [-0.67851232, -0.75159654],\n",
       "       [-0.79471015,  1.57495356],\n",
       "       [-0.21372101, -1.17460565],\n",
       "       [ 0.36726814, -0.11708288],\n",
       "       [ 0.94825728, -0.32858743],\n",
       "       [ 0.71586162, -0.54009199],\n",
       "       [-1.72429277, -0.11708288],\n",
       "       [ 1.64544425,  1.15194445],\n",
       "       [-0.79471015,  0.9404399 ],\n",
       "       [ 0.59966379, -1.17460565],\n",
       "       [-1.60809495,  0.30592623],\n",
       "       [ 2.11023556, -0.11708288],\n",
       "       [ 0.71586162,  0.30592623],\n",
       "       [-0.79471015,  1.57495356],\n",
       "       [ 0.83205945,  0.30592623],\n",
       "       [ 0.59966379, -0.75159654],\n",
       "       [-0.91090798,  0.9404399 ],\n",
       "       [-0.67851232,  0.72893534],\n",
       "       [ 0.71586162, -0.75159654],\n",
       "       [ 0.01867465,  1.99796267],\n",
       "       [-0.09752318,  2.84398089],\n",
       "       [-1.37569929,  0.30592623],\n",
       "       [ 1.29685076,  0.09442168],\n",
       "       [ 0.59966379, -0.32858743],\n",
       "       [-0.32991883,  0.9404399 ],\n",
       "       [-0.09752318, -0.9631011 ],\n",
       "       [-0.91090798,  0.51743079],\n",
       "       [ 0.25107031, -1.80911932],\n",
       "       [-1.0271058 , -0.11708288],\n",
       "       [-0.91090798, -2.23212843],\n",
       "       [ 0.94825728, -0.11708288],\n",
       "       [-0.09752318, -0.54009199],\n",
       "       [-0.32991883, -0.9631011 ],\n",
       "       [-0.32991883, -1.59761476],\n",
       "       [-1.14330363,  0.09442168],\n",
       "       [ 0.25107031, -0.32858743],\n",
       "       [-0.91090798, -0.11708288],\n",
       "       [ 1.29685076,  0.09442168],\n",
       "       [ 1.06445511, -1.17460565],\n",
       "       [-0.56231449,  1.36344901],\n",
       "       [-0.67851232,  2.20946723],\n",
       "       [-0.91090798,  0.72893534],\n",
       "       [-1.37569929,  1.15194445],\n",
       "       [ 2.22643339,  1.57495356],\n",
       "       [ 1.76164208, -0.32858743],\n",
       "       [-1.37569929,  0.09442168],\n",
       "       [-0.32991883, -1.38611021],\n",
       "       [ 0.01867465, -0.75159654],\n",
       "       [ 1.06445511,  0.51743079],\n",
       "       [ 0.01867465, -0.75159654],\n",
       "       [-0.44611666,  1.36344901],\n",
       "       [-0.91090798,  0.72893534],\n",
       "       [ 0.25107031, -0.75159654],\n",
       "       [-0.09752318, -0.54009199],\n",
       "       [ 0.36726814, -0.54009199],\n",
       "       [-0.79471015,  0.51743079],\n",
       "       [-0.21372101, -0.11708288],\n",
       "       [-0.44611666, -0.11708288],\n",
       "       [-0.44611666,  1.78645812],\n",
       "       [ 1.06445511,  0.51743079],\n",
       "       [-1.0271058 , -1.17460565],\n",
       "       [ 0.48346596,  0.72893534],\n",
       "       [-0.32991883, -1.38611021],\n",
       "       [ 2.22643339, -0.54009199],\n",
       "       [-0.44611666,  0.72893534],\n",
       "       [ 1.06445511, -0.11708288],\n",
       "       [-0.32991883,  2.42097178],\n",
       "       [-0.91090798,  0.30592623],\n",
       "       [-1.14330363, -0.11708288],\n",
       "       [ 0.01867465, -0.75159654],\n",
       "       [ 0.13487248, -0.11708288],\n",
       "       [ 1.52924642, -0.11708288],\n",
       "       [-1.0271058 , -1.38611021],\n",
       "       [ 0.59966379, -1.17460565],\n",
       "       [-0.21372101, -0.11708288],\n",
       "       [ 2.22643339, -0.11708288],\n",
       "       [-0.44611666,  0.72893534]])"
      ]
     },
     "execution_count": 48,
     "metadata": {},
     "output_type": "execute_result"
    }
   ],
   "source": [
    "X_train"
   ]
  },
  {
   "cell_type": "code",
   "execution_count": 8,
   "metadata": {},
   "outputs": [
    {
     "data": {
      "text/plain": [
       "Text(0,0.5,'Sepal width')"
      ]
     },
     "execution_count": 8,
     "metadata": {},
     "output_type": "execute_result"
    },
    {
     "data": {
      "image/png": "[encoded data removed]",
      "text/plain": [
       "<Figure size 432x288 with 1 Axes>"
      ]
     },
     "metadata": {},
     "output_type": "display_data"
    }
   ],
   "source": [
    "colors = ['red', 'greenyellow', 'blue']\n",
    "for i in range(len(colors)):\n",
    "    px = X_train[:, 0][y_train == i]\n",
    "    py = X_train[:, 1][y_train == i]\n",
    "    plt.scatter(px, py, c=colors[i])\n",
    "\n",
    "plt.legend(iris.target_names)\n",
    "plt.xlabel('Sepal length')\n",
    "plt.ylabel('Sepal width')"
   ]
  },
  {
   "cell_type": "code",
   "execution_count": 9,
   "metadata": {},
   "outputs": [
    {
     "name": "stderr",
     "output_type": "stream",
     "text": [
      "/usr/local/lib/python3.6/site-packages/sklearn/linear_model/stochastic_gradient.py:128: FutureWarning: max_iter and tol parameters have been added in <class 'sklearn.linear_model.stochastic_gradient.SGDClassifier'> in 0.19. If both are left unset, they default to max_iter=5 and tol=None. If tol is not None, max_iter defaults to max_iter=1000. From 0.21, default max_iter will be 1000, and default tol will be 1e-3.\n",
      "  \"and default tol will be 1e-3.\" % type(self), FutureWarning)\n"
     ]
    },
    {
     "data": {
      "text/plain": [
       "SGDClassifier(alpha=0.0001, average=False, class_weight=None, epsilon=0.1,\n",
       "       eta0=0.0, fit_intercept=True, l1_ratio=0.15,\n",
       "       learning_rate='optimal', loss='hinge', max_iter=None, n_iter=None,\n",
       "       n_jobs=1, penalty='l2', power_t=0.5, random_state=None,\n",
       "       shuffle=True, tol=None, verbose=0, warm_start=False)"
      ]
     },
     "execution_count": 9,
     "metadata": {},
     "output_type": "execute_result"
    }
   ],
   "source": [
    "# create the linear model classifier\n",
    "from sklearn.linear_model import SGDClassifier\n",
    "\n",
    "clf = SGDClassifier()\n",
    "\n",
    "# fit (train) the classifier\n",
    "clf.fit(X_train, y_train)"
   ]
  },
  {
   "cell_type": "code",
   "execution_count": 10,
   "metadata": {},
   "outputs": [
    {
     "name": "stdout",
     "output_type": "stream",
     "text": [
      "[[-26.32632003  10.99870201]\n",
      " [  9.68936349 -16.28001707]\n",
      " [ 11.1800348    1.35666809]]\n",
      "[-18.9050818   -2.0865416   -4.57421222]\n"
     ]
    }
   ],
   "source": [
    "# print learned coeficients\n",
    "print (clf.coef_)\n",
    "print (clf.intercept_)"
   ]
  },
  {
   "cell_type": "code",
   "execution_count": 18,
   "metadata": {},
   "outputs": [
    {
     "data": {
      "image/png": "[encoded data removed]",
      "text/plain": [
       "<Figure size 1152x432 with 3 Axes>"
      ]
     },
     "metadata": {},
     "output_type": "display_data"
    }
   ],
   "source": [
    "x_min, x_max = X_train[:, 0].min() - .5, X_train[:, 0].max() + .5\n",
    "y_min, y_max = X_train[:, 1].min() - .5, X_train[:, 1].max() + .5\n",
    "xs = np.arange(x_min,x_max,0.5)\n",
    "fig, axes = plt.subplots(1,3)\n",
    "fig.set_size_inches(16,6)\n",
    "for i in [0,1,2]:\n",
    "    axes[i].set_aspect('equal')\n",
    "    axes[i].set_title('Class ' + str(i) + ' versus the rest')\n",
    "    axes[i].set_xlabel('Sepal length')\n",
    "    axes[i].set_ylabel('Sepal width')\n",
    "    axes[i].set_xlim(x_min, x_max)\n",
    "    axes[i].set_ylim(y_min, y_max)\n",
    "    plt.sca(axes[i])\n",
    "    for j in range(len(colors)):\n",
    "        px = X_train[:, 0][y_train == j]\n",
    "        py = X_train[:, 1][y_train == j]\n",
    "        plt.scatter(px, py, c=colors[j])\n",
    "    ys = (-clf.intercept_[i]-xs*clf.coef_[i,0])/clf.coef_[i,1]\n",
    "    plt.plot(xs,ys)"
   ]
  },
  {
   "cell_type": "code",
   "execution_count": null,
   "metadata": {},
   "outputs": [],
   "source": []
  }
 ],
 "metadata": {
  "kernelspec": {
   "display_name": "Python 3",
   "language": "python",
   "name": "python3"
  },
  "language_info": {
   "codemirror_mode": {
    "name": "ipython",
    "version": 3
   },
   "file_extension": ".py",
   "mimetype": "text/x-python",
   "name": "python",
   "nbconvert_exporter": "python",
   "pygments_lexer": "ipython3",
   "version": "3.6.5"
  }
 },
 "nbformat": 4,
 "nbformat_minor": 2
}
